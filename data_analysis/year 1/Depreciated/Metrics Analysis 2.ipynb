{
 "cells": [
  {
   "cell_type": "markdown",
   "metadata": {},
   "source": [
    "# Metrics Analysis For Plastic Parallel Programming Project\n",
    "\n",
    "Generates good lookin graphs from metrics output files"
   ]
  },
  {
   "cell_type": "code",
   "execution_count": 46,
   "metadata": {
    "collapsed": false
   },
   "outputs": [],
   "source": [
    "# Import packages\n",
    "from __future__ import division, print_function # Imports from __future__ since we're running Python 2\n",
    "import os\n",
    "import numpy as np \n",
    "import pandas as pd\n",
    "import matplotlib.pyplot as plt\n",
    "import seaborn as sns"
   ]
  },
  {
   "cell_type": "markdown",
   "metadata": {},
   "source": [
    "Program parameters:"
   ]
  },
  {
   "cell_type": "code",
   "execution_count": 47,
   "metadata": {
    "collapsed": false
   },
   "outputs": [],
   "source": [
    "folderPath       = '../Plastic-Parallel-Programming/build/runs/run'\n",
    "rootword         = 'Experiment'\n",
    "startingRun      = 1\n",
    "numOfRuns        = 2\n",
    "numOfExperiments = 1\n",
    "numOfRepeats     = 5"
   ]
  },
  {
   "cell_type": "markdown",
   "metadata": {},
   "source": [
    "Set files to read"
   ]
  },
  {
   "cell_type": "code",
   "execution_count": 48,
   "metadata": {
    "collapsed": false
   },
   "outputs": [],
   "source": [
    "fileNames = []\n",
    "\n",
    "for i in range(numOfExperiments):\n",
    "    for j in range(numOfRepeats):\n",
    "        fileNames.append(rootword + str(i + 1) + \"_Repeat\" + str(j) + \".csv\")\n",
    "        \n",
    "for j in range(numOfRepeats):\n",
    "    fileNames.append(rootword + str(i + 1) + \"_Repeat\" + str(j) + \".csv\")"
   ]
  },
  {
   "cell_type": "markdown",
   "metadata": {},
   "source": [
    "Import the dataset"
   ]
  },
  {
   "cell_type": "code",
   "execution_count": 49,
   "metadata": {
    "collapsed": false
   },
   "outputs": [],
   "source": [
    "runs = []\n",
    "\n",
    "for run in range(numOfRuns):\n",
    "    runNum = startingRun + run\n",
    "    files = []\n",
    "    \n",
    "    for fileName in fileNames:\n",
    "        data_path = os.path.join(os.getcwd(), (folderPath + str(runNum)), fileName)\n",
    "        files.append(pd.read_csv(data_path, sep=',|\\t', engine='python'))\n",
    "        \n",
    "    runs.append(files)"
   ]
  },
  {
   "cell_type": "code",
   "execution_count": 50,
   "metadata": {
    "collapsed": false,
    "scrolled": false
   },
   "outputs": [
    {
     "data": {
      "text/plain": [
       "<matplotlib.figure.Figure at 0x7f7d8aedead0>"
      ]
     },
     "metadata": {},
     "output_type": "display_data"
    },
    {
     "data": {
      "image/png": "[encoded data removed]",
      "text/plain": [
       "<matplotlib.figure.Figure at 0x7f7d8aede290>"
      ]
     },
     "metadata": {},
     "output_type": "display_data"
    },
    {
     "data": {
      "text/plain": [
       "[24153.0, 24684.0]"
      ]
     },
     "execution_count": 50,
     "metadata": {},
     "output_type": "execute_result"
    }
   ],
   "source": [
    "runs_runtimes = []\n",
    "\n",
    "fig = plt.figure()\n",
    "\n",
    "for run in runs:\n",
    "    runtimes = []\n",
    "\n",
    "    for i in range(numOfExperiments * numOfRepeats):\n",
    "        runtimes.append(float(run[i].columns.values[1]))\n",
    "    \n",
    "    avg_runtimes = []\n",
    "    \n",
    "    sum = 0\n",
    "\n",
    "    for i in range(numOfExperiments):\n",
    "        for j in range(numOfRepeats):\n",
    "            sum += runtimes[(i * j)]\n",
    "            \n",
    "        avg_runtimes.append(sum / float(numOfRepeats))\n",
    "        \n",
    "    runs_runtimes.append(avg_runtimes)\n",
    "    \n",
    "# A stacked bar plot\n",
    "\n",
    "N = 2\n",
    "\n",
    "runs_runtimes = [item for sublist in runs_runtimes for item in sublist]\n",
    "\n",
    "ind = np.arange(N)    # the x locations for the groups\n",
    "ind = ind + 0.5\n",
    "width = 0.5       # the width of the bars: can also be len(x) sequence\n",
    "opacity = 0.5\n",
    "\n",
    "fig, ax = plt.subplots()\n",
    "\n",
    "p1 = plt.bar(ind, runs_runtimes, width, color = 'red', alpha = opacity)\n",
    "\n",
    "plt.ylabel('Runtime')\n",
    "plt.xticks(ind + (width / 2), ('Thread 1', 'Thread 2'))\n",
    "\n",
    "plt.show()\n",
    "fig.savefig('experiment1.png')\n",
    "\n",
    "runs_runtimes"
   ]
  },
  {
   "cell_type": "code",
   "execution_count": null,
   "metadata": {
    "collapsed": true
   },
   "outputs": [],
   "source": []
  }
 ],
 "metadata": {
  "anaconda-cloud": {},
  "kernelspec": {
   "display_name": "Python [conda env:paladin]",
   "language": "python",
   "name": "conda-env-paladin-py"
  },
  "language_info": {
   "codemirror_mode": {
    "name": "ipython",
    "version": 2
   },
   "file_extension": ".py",
   "mimetype": "text/x-python",
   "name": "python",
   "nbconvert_exporter": "python",
   "pygments_lexer": "ipython2",
   "version": "2.7.12"
  }
 },
 "nbformat": 4,
 "nbformat_minor": 1
}
