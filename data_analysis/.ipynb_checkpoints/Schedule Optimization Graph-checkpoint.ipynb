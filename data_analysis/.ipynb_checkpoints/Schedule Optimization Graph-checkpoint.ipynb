{
 "cells": [
  {
   "cell_type": "markdown",
   "metadata": {},
   "source": [
    "# Schedule Optimization Graph\n",
    "\n",
    "Generates good lookin graphs from manually entered data"
   ]
  },
  {
   "cell_type": "code",
   "execution_count": 2,
   "metadata": {
    "collapsed": true
   },
   "outputs": [],
   "source": [
    "# Import packages\n",
    "from __future__ import division, print_function # Imports from __future__ since we're running Python 2\n",
    "import os\n",
    "import numpy as np \n",
    "import pandas as pd\n",
    "import matplotlib.pyplot as plt\n",
    "import seaborn as sns"
   ]
  },
  {
   "cell_type": "code",
   "execution_count": 6,
   "metadata": {
    "collapsed": false
   },
   "outputs": [
    {
     "data": {
      "image/png": "[encoded data removed]",
      "text/plain": [
       "<matplotlib.figure.Figure at 0x7fe1ec77a550>"
      ]
     },
     "metadata": {},
     "output_type": "display_data"
    }
   ],
   "source": [
    "# A stacked bar plot\n",
    "\n",
    "N = 4\n",
    "# group1 = (10, 4, 2, 1)\n",
    "# group2 = (6, 2, 2, 1)\n",
    "# group3 = (4, 2, 1, 1)\n",
    "# group4 = (0, 0, 0, 0)\n",
    "\n",
    "group1 = (10, 4, 6, 4)\n",
    "group2 = (0, 2, 1, 2)\n",
    "group3 = (0, 1, 1, 2)\n",
    "group4 = (0, 1, 0, 2)\n",
    "\n",
    "ind = np.arange(N)    # the x locations for the groups\n",
    "ind = ind + 0.5\n",
    "width = 0.5       # the width of the bars: can also be len(x) sequence\n",
    "opacity = 0.5\n",
    "\n",
    "fig, ax = plt.subplots()\n",
    "\n",
    "p1 = plt.bar(ind, group1, width, color = 'red', alpha = opacity)\n",
    "p2 = plt.bar(ind, group2, width, color = 'blue', alpha = opacity, bottom = group1)\n",
    "p3 = plt.bar(ind, group3, width, color = 'green', alpha = opacity, bottom = [x + y for x, y in zip(group1, group2)])\n",
    "p4 = plt.bar(ind, group4, width, color = 'yellow', alpha = opacity, bottom = [x + y + z for x, y, z in zip(group1, group2, group3)])\n",
    "\n",
    "plt.ylabel('Runtime')\n",
    "plt.xticks(ind + (width / 2), ('Thread 1', 'Thread 2', 'Thread 3', 'Thread 4', 'Thread 5'))\n",
    "\n",
    "plt.show()\n",
    "# fig.savefig('Graphs/unoptimized_schedule.png')\n",
    "fig.savefig('Graphs/optimized_schedule.png')"
   ]
  },
  {
   "cell_type": "code",
   "execution_count": null,
   "metadata": {
    "collapsed": true
   },
   "outputs": [],
   "source": []
  }
 ],
 "metadata": {
  "anaconda-cloud": {},
  "kernelspec": {
   "display_name": "Python [conda env:paladin]",
   "language": "python",
   "name": "conda-env-paladin-py"
  },
  "language_info": {
   "codemirror_mode": {
    "name": "ipython",
    "version": 2
   },
   "file_extension": ".py",
   "mimetype": "text/x-python",
   "name": "python",
   "nbconvert_exporter": "python",
   "pygments_lexer": "ipython2",
   "version": "2.7.12"
  }
 },
 "nbformat": 4,
 "nbformat_minor": 1
}
