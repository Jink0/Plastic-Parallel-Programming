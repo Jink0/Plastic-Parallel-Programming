{
 "cells": [
  {
   "cell_type": "code",
   "execution_count": 1,
   "metadata": {
    "collapsed": true
   },
   "outputs": [],
   "source": [
    "def autolabel(bars):\n",
    "    peakval = [str(x) for x in bars]\n",
    "    \n",
    "    for ii, bar in enumerate(bars):\n",
    "        height = bars[ii]\n",
    "        plt.text(ind[ii], height-5, '%s'% (peakval[ii]), ha='center', va='bottom')\n",
    "        \n",
    "def fetch_data(path, file_names, files):\n",
    "    for experiment in file_names:\n",
    "        repeats = []\n",
    "        \n",
    "        for repeat in experiment:\n",
    "            data_path = os.path.join(os.getcwd(), path, repeat)\n",
    "            repeats.append(pd.read_csv(data_path, sep=',|\\t', engine='python'))\n",
    "            \n",
    "        files.append(repeats)\n",
    "\n",
    "def extract_runtimes(data):\n",
    "    output = []\n",
    "    \n",
    "    for experiment in data:\n",
    "        repeats = []\n",
    "        \n",
    "        for repeat in experiment:\n",
    "            repeats.append(float(repeat.columns.values[1]))\n",
    "            \n",
    "        output.append(repeats)\n",
    "        \n",
    "    return output\n",
    "\n",
    "def generate_data(data, cores, implementation):\n",
    "    output = []\n",
    "    \n",
    "    core = 0\n",
    "    position = 0\n",
    "    num_repeats = len(data[0])\n",
    "    \n",
    "    for experiment in data:\n",
    "        for repeat in experiment:\n",
    "            \n",
    "            if position >= num_repeats:\n",
    "                core = (core + 1) % len(cores)\n",
    "                position = 0\n",
    "                \n",
    "            output.append((cores[core], implementation, repeat))\n",
    "            position = position + 1\n",
    "            \n",
    "    return output\n",
    "\n",
    "def generate_data2(array_sizes, plasticity, data):\n",
    "    output = []\n",
    "    \n",
    "    array_size = 0\n",
    "    position = 0\n",
    "    num_repeats = len(data[0])\n",
    "    \n",
    "    for experiment in data:\n",
    "        for repeat in experiment:\n",
    "            \n",
    "            if position >= num_repeats:\n",
    "                array_size = (array_size + 1) % len(array_sizes)\n",
    "                position = 0\n",
    "                \n",
    "            output.append((array_sizes[array_size], plasticity, repeat))\n",
    "            position = position + 1\n",
    "            \n",
    "    return output"
   ]
  },
  {
   "cell_type": "code",
   "execution_count": null,
   "metadata": {
    "collapsed": true
   },
   "outputs": [],
   "source": []
  }
 ],
 "metadata": {
  "anaconda-cloud": {},
  "kernelspec": {
   "display_name": "Python [conda env:paladin]",
   "language": "python",
   "name": "conda-env-paladin-py"
  },
  "language_info": {
   "codemirror_mode": {
    "name": "ipython",
    "version": 2
   },
   "file_extension": ".py",
   "mimetype": "text/x-python",
   "name": "python",
   "nbconvert_exporter": "python",
   "pygments_lexer": "ipython2",
   "version": "2.7.12"
  }
 },
 "nbformat": 4,
 "nbformat_minor": 2
}
