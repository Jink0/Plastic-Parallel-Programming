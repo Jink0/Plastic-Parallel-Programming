{
 "cells": [
  {
   "cell_type": "markdown",
   "metadata": {},
   "source": [
    "# Experiment 1 - Common use case, optimizing N threads"
   ]
  },
  {
   "cell_type": "code",
   "execution_count": 1,
   "metadata": {},
   "outputs": [],
   "source": [
    "# Import packages\n",
    "from __future__ import division, print_function # Imports from __future__ since we're running Python 2\n",
    "import os\n",
    "import numpy as np \n",
    "import pandas as pd\n",
    "import matplotlib.pyplot as plt\n",
    "import seaborn as sns\n",
    "\n",
    "%run '/home/mark/Desktop/Plastic-Parallel-Programming/data_analysis/year 2/utilities.ipynb'"
   ]
  },
  {
   "cell_type": "markdown",
   "metadata": {},
   "source": [
    "Program parameters:"
   ]
  },
  {
   "cell_type": "code",
   "execution_count": 2,
   "metadata": {},
   "outputs": [],
   "source": [
    "folder_path1    = 'results/ex1.1/'\n",
    "number_of_runs  = 10\n",
    "number_of_tests = 64"
   ]
  },
  {
   "cell_type": "markdown",
   "metadata": {},
   "source": [
    "Set files to read"
   ]
  },
  {
   "cell_type": "code",
   "execution_count": 3,
   "metadata": {},
   "outputs": [],
   "source": [
    "file_names = []\n",
    "\n",
    "for i in range(1, number_of_tests + 1): \n",
    "    file_names.append(\"test\" + str(i) + \"/results.csv\")"
   ]
  },
  {
   "cell_type": "markdown",
   "metadata": {},
   "source": [
    "Import the dataset"
   ]
  },
  {
   "cell_type": "code",
   "execution_count": 4,
   "metadata": {},
   "outputs": [
    {
     "ename": "TypeError",
     "evalue": "fetch_data() takes exactly 4 arguments (3 given)",
     "output_type": "error",
     "traceback": [
      "\u001b[0;31m---------------------------------------------------------------------------\u001b[0m",
      "\u001b[0;31mTypeError\u001b[0m                                 Traceback (most recent call last)",
      "\u001b[0;32m<ipython-input-4-4e1a7f2994d8>\u001b[0m in \u001b[0;36m<module>\u001b[0;34m()\u001b[0m\n\u001b[1;32m      1\u001b[0m \u001b[0mdata\u001b[0m \u001b[0;34m=\u001b[0m \u001b[0;34m[\u001b[0m\u001b[0;34m]\u001b[0m\u001b[0;34m\u001b[0m\u001b[0m\n\u001b[1;32m      2\u001b[0m \u001b[0;34m\u001b[0m\u001b[0m\n\u001b[0;32m----> 3\u001b[0;31m \u001b[0mfetch_data\u001b[0m\u001b[0;34m(\u001b[0m\u001b[0mfolder_path1\u001b[0m\u001b[0;34m,\u001b[0m \u001b[0mfile_names\u001b[0m\u001b[0;34m,\u001b[0m \u001b[0mdata\u001b[0m\u001b[0;34m)\u001b[0m\u001b[0;34m\u001b[0m\u001b[0m\n\u001b[0m\u001b[1;32m      4\u001b[0m \u001b[0;34m\u001b[0m\u001b[0m\n\u001b[1;32m      5\u001b[0m \u001b[0;31m# gen_data = generate_data(data, [[\"1 Thread\"], [\"2 Threads\"], [\"3 Threads\"], [\"4 Threads\"]])\u001b[0m\u001b[0;34m\u001b[0m\u001b[0;34m\u001b[0m\u001b[0m\n",
      "\u001b[0;31mTypeError\u001b[0m: fetch_data() takes exactly 4 arguments (3 given)"
     ]
    }
   ],
   "source": [
    "data = []\n",
    "        \n",
    "fetch_data(folder_path1, file_names, data)\n",
    "        \n",
    "# gen_data = generate_data(data, [[\"1 Thread\"], [\"2 Threads\"], [\"3 Threads\"], [\"4 Threads\"]])\n",
    "\n",
    "# dataset = pd.DataFrame(gen_data, \n",
    "#                        columns=['Number of Cores', 'Metrics', 'Runtime (Milliseconds)'])\n",
    "\n",
    "# dataset = pd.DataFrame(gen_data.mean())\n",
    "# dataset.columns = ['Thread count', 'Runtime']\n",
    "# dataset\n",
    "dataset = []\n",
    "\n",
    "for i in range(len(data)):\n",
    "    dataset.append([i + 1, round_to(data[i].mean()[0], 1)])\n",
    "\n",
    "dataset = pd.DataFrame(dataset)\n",
    "dataset.columns = [\"nt\", \"r\"]\n",
    "dataset = dataset.T"
   ]
  },
  {
   "cell_type": "code",
   "execution_count": null,
   "metadata": {
    "scrolled": false
   },
   "outputs": [],
   "source": [
    "# sns.set(style=\"whitegrid\", font_scale=1.75)\n",
    "\n",
    "# graph = sns.factorplot(data=dataset, \n",
    "#                    size=10, kind=\"bar\", palette=\"muted\")\n",
    "\n",
    "# # graph.axes[0,0].set_ylim(20000,)\n",
    "\n",
    "# # graph.despine(left=True)\n",
    "# graph.savefig(\"graphs/experiment1.1.png\")\n",
    "\n",
    "# # sns.plt.show()\n",
    "# plt.show()\n",
    "\n",
    "sns.set_style(\"whitegrid\")\n",
    "ax = sns.barplot(x=\"nt\", y=\"r\", data=dataset)\n",
    "# tips = sns.load_dataset(\"tips\")\n",
    "# tips"
   ]
  },
  {
   "cell_type": "code",
   "execution_count": null,
   "metadata": {},
   "outputs": [],
   "source": []
  }
 ],
 "metadata": {
  "anaconda-cloud": {},
  "kernelspec": {
   "display_name": "Python 2",
   "language": "python",
   "name": "python2"
  },
  "language_info": {
   "codemirror_mode": {
    "name": "ipython",
    "version": 2
   },
   "file_extension": ".py",
   "mimetype": "text/x-python",
   "name": "python",
   "nbconvert_exporter": "python",
   "pygments_lexer": "ipython2",
   "version": "2.7.14"
  }
 },
 "nbformat": 4,
 "nbformat_minor": 1
}
