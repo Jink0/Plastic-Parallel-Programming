{
 "cells": [
  {
   "cell_type": "markdown",
   "metadata": {},
   "source": [
    "# Experiment 1 - Common use case, optimizing N threads"
   ]
  },
  {
   "cell_type": "code",
   "execution_count": 9,
   "metadata": {},
   "outputs": [],
   "source": [
    "# Import packages\n",
    "from __future__ import division, print_function # Imports from __future__ since we're running Python 2\n",
    "import os\n",
    "import numpy as np \n",
    "import pandas as pd\n",
    "import matplotlib.pyplot as plt\n",
    "import seaborn as sns\n",
    "\n",
    "%run '/home/mark/Desktop/Plastic-Parallel-Programming/data_analysis/year 2/utilities.ipynb'"
   ]
  },
  {
   "cell_type": "markdown",
   "metadata": {},
   "source": [
    "Program parameters:"
   ]
  },
  {
   "cell_type": "code",
   "execution_count": 10,
   "metadata": {},
   "outputs": [],
   "source": [
    "folder_path1    = 'results/barrier_test_investigation/'\n",
    "number_of_runs  = 10\n",
    "number_of_tests = 72"
   ]
  },
  {
   "cell_type": "markdown",
   "metadata": {},
   "source": [
    "Set files to read"
   ]
  },
  {
   "cell_type": "code",
   "execution_count": 11,
   "metadata": {},
   "outputs": [],
   "source": [
    "file_names = []\n",
    "\n",
    "for i in range(1, number_of_tests + 1): \n",
    "    file_names.append(\"test\" + str(i) + \"/output\")"
   ]
  },
  {
   "cell_type": "markdown",
   "metadata": {},
   "source": [
    "Import the dataset"
   ]
  },
  {
   "cell_type": "code",
   "execution_count": 16,
   "metadata": {},
   "outputs": [
    {
     "data": {
      "text/html": [
       "<div>\n",
       "<style scoped>\n",
       "    .dataframe tbody tr th:only-of-type {\n",
       "        vertical-align: middle;\n",
       "    }\n",
       "\n",
       "    .dataframe tbody tr th {\n",
       "        vertical-align: top;\n",
       "    }\n",
       "\n",
       "    .dataframe thead th {\n",
       "        text-align: right;\n",
       "    }\n",
       "</style>\n",
       "<table border=\"1\" class=\"dataframe\">\n",
       "  <thead>\n",
       "    <tr style=\"text-align: right;\">\n",
       "      <th></th>\n",
       "      <th>Runtime</th>\n",
       "    </tr>\n",
       "  </thead>\n",
       "  <tbody>\n",
       "    <tr>\n",
       "      <th>0</th>\n",
       "      <td>725</td>\n",
       "    </tr>\n",
       "    <tr>\n",
       "      <th>1</th>\n",
       "      <td>774</td>\n",
       "    </tr>\n",
       "    <tr>\n",
       "      <th>2</th>\n",
       "      <td>764</td>\n",
       "    </tr>\n",
       "    <tr>\n",
       "      <th>3</th>\n",
       "      <td>703</td>\n",
       "    </tr>\n",
       "    <tr>\n",
       "      <th>4</th>\n",
       "      <td>686</td>\n",
       "    </tr>\n",
       "  </tbody>\n",
       "</table>\n",
       "</div>"
      ],
      "text/plain": [
       "   Runtime\n",
       "0      725\n",
       "1      774\n",
       "2      764\n",
       "3      703\n",
       "4      686"
      ]
     },
     "execution_count": 16,
     "metadata": {},
     "output_type": "execute_result"
    }
   ],
   "source": [
    "data = []\n",
    "        \n",
    "fetch_data(folder_path1, file_names, data, [\"Runtime\"])\n",
    "        \n",
    "dataset = []\n",
    "\n",
    "power = 10\n",
    "num_workers = 4\n",
    "barriers = [\"No barrier\", \"My barrier\", \"Pthreads barrier\"]\n",
    "barrier = 0\n",
    "\n",
    "for i in range(len(data)):\n",
    "    dataset.append([2 ** power, num_workers, data[i].mean()[0], barriers[barrier]])\n",
    "    \n",
    "    if num_workers == 32:\n",
    "        if power == 12:\n",
    "            barrier = barrier + 1\n",
    "            num_workers = 4\n",
    "            power = 10\n",
    "        else:\n",
    "            num_workers = 4\n",
    "            power = power + 1\n",
    "    else:\n",
    "        num_workers = num_workers + 4\n",
    "\n",
    "dataset = pd.DataFrame(dataset)\n",
    "dataset.columns = [\"Grid Size\", \"Num Workers\", \"Time\", \"Barrier Implementation\"]\n",
    "\n",
    "no_b = dataset.loc[dataset[\"Barrier Implementation\"] == \"No barrier\"]\n",
    "my_b = dataset.loc[dataset[\"Barrier Implementation\"] == \"My barrier\"]\n",
    "pt_b = dataset.loc[dataset[\"Barrier Implementation\"] == \"Pthreads barrier\"]"
   ]
  },
  {
   "cell_type": "code",
   "execution_count": 5,
   "metadata": {
    "scrolled": false
   },
   "outputs": [
    {
     "data": {
      "image/png": "[encoded data removed]",
      "text/plain": [
       "<matplotlib.figure.Figure at 0x7f2e89f8af10>"
      ]
     },
     "metadata": {},
     "output_type": "display_data"
    },
    {
     "data": {
      "image/png": "[encoded data removed]",
      "text/plain": [
       "<matplotlib.figure.Figure at 0x7f2e87e6b6d0>"
      ]
     },
     "metadata": {},
     "output_type": "display_data"
    }
   ],
   "source": [
    "for i in range(0, 2):\n",
    "    test = no_b.loc[no_b['Grid Size'] == 2 ** (10 + i)]\n",
    "    plt.plot(test[\"Num Workers\"], test[\"Time\"], label=str(2 ** (10 + i)) + \" - No barrier\")\n",
    "    \n",
    "    test = my_b.loc[my_b['Grid Size'] == 2 ** (10 + i)]\n",
    "    plt.plot(test[\"Num Workers\"], test[\"Time\"], label=str(2 ** (10 + i)) + \" - My barrier\")\n",
    "    \n",
    "    test = pt_b.loc[pt_b['Grid Size'] == 2 ** (10 + i)]\n",
    "    plt.plot(test[\"Num Workers\"], test[\"Time\"], label=str(2 ** (10 + i)) + \" - Pthreads barrier\")\n",
    "    \n",
    "    plt.legend(loc='best')\n",
    "    plt.savefig(\"graphs/barrier/\" + str(2 ** (10 + i)) + \".png\")\n",
    "    plt.show()"
   ]
  },
  {
   "cell_type": "code",
   "execution_count": null,
   "metadata": {},
   "outputs": [],
   "source": []
  }
 ],
 "metadata": {
  "anaconda-cloud": {},
  "kernelspec": {
   "display_name": "Python 2",
   "language": "python",
   "name": "python2"
  },
  "language_info": {
   "codemirror_mode": {
    "name": "ipython",
    "version": 2
   },
   "file_extension": ".py",
   "mimetype": "text/x-python",
   "name": "python",
   "nbconvert_exporter": "python",
   "pygments_lexer": "ipython2",
   "version": "2.7.12"
  }
 },
 "nbformat": 4,
 "nbformat_minor": 1
}
