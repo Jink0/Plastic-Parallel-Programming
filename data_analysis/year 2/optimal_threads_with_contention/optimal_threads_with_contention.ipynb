{
 "cells": [
  {
   "cell_type": "markdown",
   "metadata": {},
   "source": [
    "# Experiment 1 - Common use case, optimizing N threads"
   ]
  },
  {
   "cell_type": "code",
   "execution_count": 1,
   "metadata": {},
   "outputs": [],
   "source": [
    "# Import packages\n",
    "from __future__ import division, print_function # Imports from __future__ since we're running Python 2\n",
    "import os\n",
    "import numpy as np \n",
    "import pandas as pd\n",
    "import matplotlib.pyplot as plt\n",
    "import seaborn as sns\n",
    "from mpl_toolkits.mplot3d import Axes3D\n",
    "from subprocess import call\n",
    "\n",
    "%run '/home/mark/Desktop/Plastic-Parallel-Programming/data_analysis/year 2/utilities.ipynb'"
   ]
  },
  {
   "cell_type": "markdown",
   "metadata": {},
   "source": [
    "Program parameters:"
   ]
  },
  {
   "cell_type": "code",
   "execution_count": 2,
   "metadata": {},
   "outputs": [],
   "source": [
    "machine    = \"spa\"\n",
    "kernel1    = \"cpu\"\n",
    "size1      = \"small\"\n",
    "kernel2    = \"cpu\"\n",
    "size2      = \"large\"\n",
    "randomised = False\n",
    "\n",
    "rotation = 0\n",
    "\n",
    "nc1 = 24\n",
    "nc2 = 24"
   ]
  },
  {
   "cell_type": "code",
   "execution_count": 3,
   "metadata": {},
   "outputs": [],
   "source": [
    "if machine == \"spa\":\n",
    "    number_of_tests = 1296\n",
    "    num_workers_max = 24\n",
    "    num_cores_max   = 24\n",
    "    greater_than_threshold = 12\n",
    "\n",
    "elif machine == \"XXXII\":\n",
    "    number_of_tests = 576\n",
    "    num_workers_max = 48\n",
    "    num_cores_max   = 48\n",
    "    greater_than_threshold = 32\n",
    "    \n",
    "# if randomised == True:\n",
    "#     folder_path1 = \"results/\" + machine + \"/otwc_\" + kernel1 + \"_\" + size1 + \"_\" + kernel2 + \"_\" + size2 + \"_randomised/\"\n",
    "#     graph_path   = \"graphs/\" + machine + \"/otwc_\" + kernel1 + \"_\" + size1 + \"_\" + kernel2 + \"_\" + size2 + \"_randomised.png\"\n",
    "    \n",
    "# else:\n",
    "folder_path1   = \"results/\" + machine + \"/otwc_\" + kernel1 + \"_\" + size1 + \"_and_\" + kernel2 + \"_\" + size2 + \"_1/\"\n",
    "folder_path2   = \"results/\" + machine + \"/otwc_\" + kernel1 + \"_\" + size1 + \"_and_\" + kernel2 + \"_\" + size2 + \"_2/\"\n",
    "graph_path     = \"graphs/\" + machine + \"/otwc_\" + kernel1 + \"_\" + size1 + \"_and_\" + kernel2 + \"_\" + size2 + \".png\"\n",
    "graph_folder   = \"graphs/\" + machine + \"/otwc_\" + kernel1 + \"_\" + size1 + \"_and_\" + kernel2 + \"_\" + size2 + \"/\"\n",
    "graph_aminated = \"graphs/\" + machine + \"/otwc_\" + kernel1 + \"_\" + size1 + \"_and_\" + kernel2 + \"_\" + size2 + \".gif\"\n",
    "\n",
    "if not os.path.exists(graph_folder):\n",
    "    os.makedirs(graph_folder)"
   ]
  },
  {
   "cell_type": "markdown",
   "metadata": {},
   "source": [
    "Set files to read"
   ]
  },
  {
   "cell_type": "code",
   "execution_count": 4,
   "metadata": {},
   "outputs": [],
   "source": [
    "file_names = []\n",
    "\n",
    "for i in range(1, number_of_tests + 1): \n",
    "    file_names.append(\"test\" + str(i) + \"/output\")"
   ]
  },
  {
   "cell_type": "markdown",
   "metadata": {},
   "source": [
    "Import the dataset"
   ]
  },
  {
   "cell_type": "code",
   "execution_count": 5,
   "metadata": {},
   "outputs": [],
   "source": [
    "data1 = []\n",
    "data2 = []\n",
    "        \n",
    "fetch_data(folder_path1, file_names, data1, [\"Runtime\"])\n",
    "fetch_data(folder_path2, file_names, data2, [\"Runtime\"])\n",
    "        \n",
    "dataset = []\n",
    "\n",
    "num_workers_min = 4\n",
    "num_workers_step = 4\n",
    "num_workers_values = range(num_workers_min, num_workers_max + num_workers_step, num_workers_step)\n",
    "nwv_len = len(num_workers_values)\n",
    "num_workers = num_workers_values[0]\n",
    "\n",
    "num_cores_min = 4\n",
    "num_cores_step = 4\n",
    "num_cores_values = range(num_cores_min, num_cores_max + num_cores_step, num_cores_step)\n",
    "ncv_len = len(num_cores_values)\n",
    "num_cores = num_cores_values[0]\n",
    "\n",
    "for i in range(len(data1)):\n",
    "    num_workers1 = num_workers_values[i % nwv_len]\n",
    "    num_cores1 = num_cores_values[(i // nwv_len) % ncv_len]\n",
    "    num_workers2 = num_workers_values[((i // nwv_len) // ncv_len) % nwv_len]\n",
    "    num_cores2 = num_cores_values[(((i // nwv_len) // ncv_len) // nwv_len) % ncv_len]\n",
    "    \n",
    "    dataset.append([int(num_cores1), int(num_workers1), int(num_cores2), int(num_workers2), data1[i][1:].mean()[0] + data2[i][1:].mean()[0]])\n",
    "\n",
    "dataset = pd.DataFrame(dataset)\n",
    "dataset.columns = [\"Num Cores 1\", \"Num Workers 1\", \"Num Cores 2\", \"Num Workers 2\", \"Total Runtime\"]"
   ]
  },
  {
   "cell_type": "code",
   "execution_count": 6,
   "metadata": {},
   "outputs": [
    {
     "data": {
      "text/html": [
       "<div>\n",
       "<style scoped>\n",
       "    .dataframe tbody tr th:only-of-type {\n",
       "        vertical-align: middle;\n",
       "    }\n",
       "\n",
       "    .dataframe tbody tr th {\n",
       "        vertical-align: top;\n",
       "    }\n",
       "\n",
       "    .dataframe thead th {\n",
       "        text-align: right;\n",
       "    }\n",
       "</style>\n",
       "<table border=\"1\" class=\"dataframe\">\n",
       "  <thead>\n",
       "    <tr style=\"text-align: right;\">\n",
       "      <th></th>\n",
       "      <th>Num Cores 1</th>\n",
       "      <th>Num Workers 1</th>\n",
       "      <th>Num Cores 2</th>\n",
       "      <th>Num Workers 2</th>\n",
       "      <th>Total Runtime</th>\n",
       "    </tr>\n",
       "  </thead>\n",
       "  <tbody>\n",
       "    <tr>\n",
       "      <th>1186</th>\n",
       "      <td>24</td>\n",
       "      <td>20</td>\n",
       "      <td>24</td>\n",
       "      <td>12</td>\n",
       "      <td>57.07</td>\n",
       "    </tr>\n",
       "  </tbody>\n",
       "</table>\n",
       "</div>"
      ],
      "text/plain": [
       "      Num Cores 1  Num Workers 1  Num Cores 2  Num Workers 2  Total Runtime\n",
       "1186           24             20           24             12          57.07"
      ]
     },
     "execution_count": 6,
     "metadata": {},
     "output_type": "execute_result"
    }
   ],
   "source": [
    "reduced_dataset = dataset[(dataset[\"Num Cores 1\"] == nc1) & (dataset[\"Num Cores 2\"] == nc2)]\n",
    "\n",
    "min_runtime = min(reduced_dataset[\"Total Runtime\"])\n",
    "\n",
    "nw1 = reduced_dataset[reduced_dataset[\"Total Runtime\"] == min(reduced_dataset[\"Total Runtime\"])][\"Num Workers 1\"].item()\n",
    "\n",
    "nw2 = reduced_dataset[reduced_dataset[\"Total Runtime\"] == min(reduced_dataset[\"Total Runtime\"])][\"Num Workers 2\"].item()\n",
    "\n",
    "reduced_dataset[reduced_dataset[\"Total Runtime\"] == min(reduced_dataset[\"Total Runtime\"])]"
   ]
  },
  {
   "cell_type": "code",
   "execution_count": 10,
   "metadata": {
    "scrolled": false
   },
   "outputs": [
    {
     "data": {
      "image/png": "[encoded data removed]",
      "text/plain": [
       "<matplotlib.figure.Figure at 0x7f3a38b521d0>"
      ]
     },
     "metadata": {},
     "output_type": "display_data"
    }
   ],
   "source": [
    "# Plot figure\n",
    "fig = plt.figure()\n",
    "ax = fig.gca(projection='3d')\n",
    "surf = ax.plot_trisurf(reduced_dataset[\"Num Workers 1\"], reduced_dataset[\"Num Workers 2\"], reduced_dataset[\"Total Runtime\"], cmap=plt.cm.viridis, linewidth=0.01)\n",
    " \n",
    "# Add a color bar which maps values to colors\n",
    "fig.colorbar(surf, shrink=0.5, aspect=5)\n",
    " \n",
    "# Rotate\n",
    "ax.view_init(30, 45)\n",
    "\n",
    "# Plot minimum point\n",
    "ax.plot([nw1], [nw2], [min_runtime], markerfacecolor='k', markeredgecolor='k', marker='o', markersize=5, alpha=0.6)\n",
    "\n",
    "plt.savefig(graph_path)"
   ]
  },
  {
   "cell_type": "code",
   "execution_count": 8,
   "metadata": {},
   "outputs": [],
   "source": [
    "# call(\"rm \" + graph_folder + \"*.png\", shell=True)\n",
    "\n",
    "# for angle in range(45, 225, 1):\n",
    " \n",
    "#     # Make the plot\n",
    "#     fig = plt.figure()\n",
    "#     ax = fig.gca(projection='3d')\n",
    "#     ax.plot_trisurf(reduced_dataset[\"Num Workers 1\"], reduced_dataset[\"Num Workers 2\"], reduced_dataset[\"Total Runtime\"], cmap=plt.cm.viridis, linewidth=0.01)\n",
    "    \n",
    "#     # Set the angle of the camera\n",
    "#     ax.view_init(30, angle)\n",
    "    \n",
    "#     # Plot minimum point\n",
    "#     ax.plot([nw1], [nw2], [min_runtime], markerfacecolor='k', markeredgecolor='k', marker='o', markersize=5, alpha=0.6)\n",
    "    \n",
    "#     # Save it\n",
    "#     filename = graph_folder + str(angle) + '.png'\n",
    "#     plt.savefig(filename, dpi=256)\n",
    "#     plt.gca()\n",
    "\n",
    "# call(\"convert -delay 15 \" + graph_folder + \"*.png \" + graph_aminated, shell=True)"
   ]
  }
 ],
 "metadata": {
  "anaconda-cloud": {},
  "kernelspec": {
   "display_name": "Python 2",
   "language": "python",
   "name": "python2"
  },
  "language_info": {
   "codemirror_mode": {
    "name": "ipython",
    "version": 2
   },
   "file_extension": ".py",
   "mimetype": "text/x-python",
   "name": "python",
   "nbconvert_exporter": "python",
   "pygments_lexer": "ipython2",
   "version": "2.7.14"
  }
 },
 "nbformat": 4,
 "nbformat_minor": 1
}
