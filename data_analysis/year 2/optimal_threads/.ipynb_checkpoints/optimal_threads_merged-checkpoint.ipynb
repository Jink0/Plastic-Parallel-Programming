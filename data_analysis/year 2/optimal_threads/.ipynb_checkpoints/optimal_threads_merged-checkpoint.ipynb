{
 "cells": [
  {
   "cell_type": "code",
   "execution_count": 1,
   "metadata": {},
   "outputs": [],
   "source": [
    "# Import packages\n",
    "from __future__ import division, print_function # Imports from __future__ since we're running Python 2\n",
    "import os\n",
    "import numpy as np \n",
    "import pandas as pd\n",
    "import matplotlib.pyplot as plt\n",
    "import seaborn as sns\n",
    "\n",
    "%run '/home/mark/Desktop/Plastic-Parallel-Programming/data_analysis/year 2/utilities.ipynb'"
   ]
  },
  {
   "cell_type": "code",
   "execution_count": 2,
   "metadata": {},
   "outputs": [],
   "source": [
    "all_configs = [[\"spa\", \"cpu\", \"small\"], [\"spa\", \"cpu\", \"large\"], [\"spa\", \"vm\", \"small\"], [\"spa\", \"vm\", \"large\"],\n",
    "               [\"XXXII\", \"cpu\", \"small\"], [\"XXXII\", \"cpu\", \"large\"], [\"XXXII\", \"vm\", \"small\"], [\"XXXII\", \"vm\", \"large\"]]\n",
    "\n",
    "def next_params(position):\n",
    "    if (position == len(all_configs)):\n",
    "        return False\n",
    "    \n",
    "    machine    = all_configs[position][0]\n",
    "    kernel     = all_configs[position][1]\n",
    "    size       = all_configs[position][2]\n",
    "    randomised = False\n",
    "    \n",
    "    position = position + 1\n",
    "    \n",
    "    return True"
   ]
  },
  {
   "cell_type": "markdown",
   "metadata": {},
   "source": [
    "Program parameters:"
   ]
  },
  {
   "cell_type": "code",
   "execution_count": 3,
   "metadata": {},
   "outputs": [],
   "source": [
    "# machine    = \"XXXII\"\n",
    "# kernel     = \"vm\"\n",
    "# size       = \"small\"\n",
    "# randomised = False"
   ]
  },
  {
   "cell_type": "code",
   "execution_count": 4,
   "metadata": {},
   "outputs": [
    {
     "ename": "NameError",
     "evalue": "name 'machine' is not defined",
     "output_type": "error",
     "traceback": [
      "\u001b[0;31m---------------------------------------------------------------------------\u001b[0m",
      "\u001b[0;31mNameError\u001b[0m                                 Traceback (most recent call last)",
      "\u001b[0;32m<ipython-input-4-32a6028ef5ae>\u001b[0m in \u001b[0;36m<module>\u001b[0;34m()\u001b[0m\n\u001b[1;32m      3\u001b[0m \u001b[0;32mwhile\u001b[0m \u001b[0mnext_params\u001b[0m\u001b[0;34m(\u001b[0m\u001b[0mposition\u001b[0m\u001b[0;34m)\u001b[0m\u001b[0;34m:\u001b[0m\u001b[0;34m\u001b[0m\u001b[0m\n\u001b[1;32m      4\u001b[0m \u001b[0;34m\u001b[0m\u001b[0m\n\u001b[0;32m----> 5\u001b[0;31m     \u001b[0;32mif\u001b[0m \u001b[0mmachine\u001b[0m \u001b[0;34m==\u001b[0m \u001b[0;34m\"spa\"\u001b[0m\u001b[0;34m:\u001b[0m\u001b[0;34m\u001b[0m\u001b[0m\n\u001b[0m\u001b[1;32m      6\u001b[0m         \u001b[0mnumber_of_tests\u001b[0m \u001b[0;34m=\u001b[0m \u001b[0;36m144\u001b[0m\u001b[0;34m\u001b[0m\u001b[0m\n\u001b[1;32m      7\u001b[0m         \u001b[0mnum_workers_max\u001b[0m \u001b[0;34m=\u001b[0m \u001b[0;36m24\u001b[0m\u001b[0;34m\u001b[0m\u001b[0m\n",
      "\u001b[0;31mNameError\u001b[0m: name 'machine' is not defined"
     ]
    }
   ],
   "source": [
    "position = 0\n",
    "\n",
    "for config in range(len(all_configs)) next_params(position):\n",
    "\n",
    "    if machine == \"spa\":\n",
    "        number_of_tests = 144\n",
    "        num_workers_max = 24\n",
    "        num_cores_max   = 24\n",
    "        greater_than_threshold = 12\n",
    "\n",
    "    elif machine == \"XXXII\":\n",
    "        number_of_tests = 576\n",
    "        num_workers_max = 48\n",
    "        num_cores_max   = 48\n",
    "        greater_than_threshold = 32\n",
    "\n",
    "    if randomised == True:\n",
    "        folder_path1 = \"results/\" + machine + \"/optimal_threads_\" + kernel + \"_\" + size + \"_randomised/\"\n",
    "        graph_path   = \"graphs/\" + machine + \"/optimal_threads_\" + kernel + \"_\" + size + \"_randomised.png\"\n",
    "\n",
    "    else:\n",
    "        folder_path1 = \"results/\" + machine + \"/optimal_threads_\" + kernel + \"_\" + size + \"/\"\n",
    "        graph_path   = \"graphs/\" + machine + \"/optimal_threads_\" + kernel + \"_\" + size + \".png\"\n",
    "\n",
    "\n",
    "\n",
    "    file_names = []\n",
    "\n",
    "    for i in range(1, number_of_tests + 1): \n",
    "        file_names.append(\"test\" + str(i) + \"/output\")\n",
    "\n",
    "\n",
    "\n",
    "    data = []\n",
    "\n",
    "    fetch_data(folder_path1, file_names, data, [\"Runtime\"])\n",
    "\n",
    "    raw_dataset = []\n",
    "\n",
    "    num_workers_min = 2\n",
    "    num_workers_step = 2\n",
    "    num_workers_values = range(num_workers_min, num_workers_max + num_workers_step, num_workers_step)\n",
    "    nwv_len = len(num_workers_values)\n",
    "    num_workers = num_workers_values[0]\n",
    "\n",
    "    num_cores_min = 2\n",
    "    num_cores_step = 2\n",
    "    num_cores_values = range(num_cores_min, num_cores_max + num_cores_step, num_cores_step)\n",
    "    ncv_len = len(num_cores_values)\n",
    "    num_cores = num_cores_values[0]\n",
    "\n",
    "    greater_than = False\n",
    "\n",
    "    for i in range(len(data)):\n",
    "        num_workers = num_workers_values[i % nwv_len]\n",
    "        num_cores = num_cores_values[(i // nwv_len) % ncv_len]\n",
    "\n",
    "        if num_cores > greater_than_threshold:\n",
    "            greater_than = True\n",
    "\n",
    "        for j in range(1, len(data[i])):\n",
    "            raw_dataset.append([32, num_cores, num_workers, data[i].values[j][0], greater_than])\n",
    "\n",
    "    raw_dataset = pd.DataFrame(raw_dataset)\n",
    "    raw_dataset.columns = [\"Grid Size\", \"Num Cores\", \"Num Workers\", \"Time\", \"Num Cores Greater Than Physical Cores\"]\n",
    "\n",
    "\n",
    "\n",
    "    sns.set_context(\"talk\", font_scale=1.4)\n",
    "    ax = sns.factorplot(x=\"Num Workers\", y=\"Time\",\n",
    "                    hue=\"Num Cores\",\n",
    "                    col=\"Num Cores Greater Than Physical Cores\",\n",
    "                    size=10,\n",
    "                    scale=0.8,\n",
    "                    ci=95,\n",
    "                    data=raw_dataset);\n",
    "\n",
    "    axes = ax.axes.flatten()\n",
    "\n",
    "    axes[0].yaxis.labelpad = 50\n",
    "    axes[0].set_ylabel('Runtime\\n(ms)', rotation=0)\n",
    "\n",
    "    if machine == \"spa\":\n",
    "        axes[0].set_title(\"Num Cores 2-12\")\n",
    "        axes[1].set_title(\"Num Cores 14-24 (Including Hyperthreads)\")\n",
    "\n",
    "    elif machine == \"XXXII\":\n",
    "        axes[0].set_title(\"Num Cores 2-32\")\n",
    "        axes[1].set_title(\"Num Cores 34-48 (Including Hyperthreads)\")\n",
    "\n",
    "    plt.savefig(graph_path)\n",
    "    \n",
    "    print(machine, kernel, size, \"Complete\")"
   ]
  }
 ],
 "metadata": {
  "anaconda-cloud": {},
  "kernelspec": {
   "display_name": "Python 2",
   "language": "python",
   "name": "python2"
  },
  "language_info": {
   "codemirror_mode": {
    "name": "ipython",
    "version": 2
   },
   "file_extension": ".py",
   "mimetype": "text/x-python",
   "name": "python",
   "nbconvert_exporter": "python",
   "pygments_lexer": "ipython2",
   "version": "2.7.14"
  }
 },
 "nbformat": 4,
 "nbformat_minor": 1
}
