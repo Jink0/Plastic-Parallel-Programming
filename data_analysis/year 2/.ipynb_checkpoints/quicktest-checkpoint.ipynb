{
 "cells": [
  {
   "cell_type": "markdown",
   "metadata": {},
   "source": [
    "# Experiment 1 - Common use case, optimizing N threads"
   ]
  },
  {
   "cell_type": "code",
   "execution_count": 1,
   "metadata": {},
   "outputs": [],
   "source": [
    "# Import packages\n",
    "from __future__ import division, print_function # Imports from __future__ since we're running Python 2\n",
    "import os\n",
    "import numpy as np \n",
    "import pandas as pd\n",
    "import matplotlib.pyplot as plt\n",
    "import seaborn as sns\n",
    "\n",
    "%run '/home/mark/Desktop/Plastic-Parallel-Programming/data_analysis/year 2/utilities.ipynb'"
   ]
  },
  {
   "cell_type": "markdown",
   "metadata": {},
   "source": [
    "Program parameters:"
   ]
  },
  {
   "cell_type": "code",
   "execution_count": 2,
   "metadata": {},
   "outputs": [],
   "source": [
    "folder_path1    = 'results/quicktest/'\n",
    "number_of_runs  = 1\n",
    "number_of_tests = 108"
   ]
  },
  {
   "cell_type": "markdown",
   "metadata": {},
   "source": [
    "Set files to read"
   ]
  },
  {
   "cell_type": "code",
   "execution_count": 3,
   "metadata": {},
   "outputs": [],
   "source": [
    "file_names = []\n",
    "\n",
    "for i in range(1, number_of_tests + 1): \n",
    "    file_names.append(\"test\" + str(i) + \"/output\")"
   ]
  },
  {
   "cell_type": "markdown",
   "metadata": {},
   "source": [
    "Import the dataset"
   ]
  },
  {
   "cell_type": "code",
   "execution_count": 28,
   "metadata": {},
   "outputs": [],
   "source": [
    "data = []\n",
    "        \n",
    "fetch_data(folder_path1, file_names, data, [\"Runtime\"])\n",
    "        \n",
    "dataset = []\n",
    "\n",
    "powers_min = 8\n",
    "powers_max = 11\n",
    "num_workers_min = 8\n",
    "num_workers_max = 32\n",
    "num_workers_step = 8\n",
    "workloads = [\"BASIC_KERNEL_SMALL\", \"BASIC_KERNEL_LARGE\", \"none\", \"addpd\", \"mulpd\", \"sqrt\", \"compute\", \"shared_mem_read_small\", \"shared_mem_read_large\"]\n",
    "workload = 0\n",
    "\n",
    "power = powers_min\n",
    "num_workers = num_workers_min\n",
    "\n",
    "for i in range(len(data)):\n",
    "    dataset.append([2 ** power, num_workers, data[i].mean()[0], workloads[workload]])\n",
    "    \n",
    "    if num_workers == num_workers_max:\n",
    "        if power == powers_max:\n",
    "            workload = workload + 1\n",
    "            num_workers = num_workers_min\n",
    "            power = powers_min\n",
    "        else:\n",
    "            num_workers = num_workers_min\n",
    "            power = power + 1\n",
    "    else:\n",
    "        num_workers = num_workers + num_workers_step\n",
    "\n",
    "dataset = pd.DataFrame(dataset)\n",
    "dataset.columns = [\"Grid Size\", \"Num Workers\", \"Time\", \"Workload\"]\n",
    "\n",
    "datasets = []\n",
    "for i in range(len(workloads)):\n",
    "    datasets.append(dataset.loc[dataset[\"Workload\"] == workloads[i]])"
   ]
  },
  {
   "cell_type": "code",
   "execution_count": 42,
   "metadata": {
    "scrolled": false
   },
   "outputs": [
    {
     "data": {
      "image/png": "[encoded data removed]",
      "text/plain": [
       "<matplotlib.figure.Figure at 0x7f7c535e1390>"
      ]
     },
     "metadata": {},
     "output_type": "display_data"
    },
    {
     "data": {
      "image/png": "[encoded data removed]",
      "text/plain": [
       "<matplotlib.figure.Figure at 0x7f7c535e1510>"
      ]
     },
     "metadata": {},
     "output_type": "display_data"
    },
    {
     "data": {
      "image/png": "[encoded data removed]",
      "text/plain": [
       "<matplotlib.figure.Figure at 0x7f7c53558d10>"
      ]
     },
     "metadata": {},
     "output_type": "display_data"
    },
    {
     "data": {
      "image/png": "[encoded data removed]",
      "text/plain": [
       "<matplotlib.figure.Figure at 0x7f7c53469a50>"
      ]
     },
     "metadata": {},
     "output_type": "display_data"
    }
   ],
   "source": [
    "# for i in range(len(workloads)):\n",
    "#     test = no_b.loc[no_b['Grid Size'] == 2 ** (10 + i)]\n",
    "#     plt.plot(test[\"Num Workers\"], test[\"Time\"], label=str(2 ** (10 + i)) + \" - No barrier\")\n",
    "    \n",
    "#     test = my_b.loc[my_b['Grid Size'] == 2 ** (10 + i)]\n",
    "#     plt.plot(test[\"Num Workers\"], test[\"Time\"], label=str(2 ** (10 + i)) + \" - My barrier\")\n",
    "    \n",
    "#     test = pt_b.loc[pt_b['Grid Size'] == 2 ** (10 + i)]\n",
    "#     plt.plot(test[\"Num Workers\"], test[\"Time\"], label=str(2 ** (10 + i)) + \" - Pthreads barrier\")\n",
    "    \n",
    "#     plt.legend(loc='best')\n",
    "#     plt.savefig(\"graphs/barrier/\" + str(2 ** (10 + i)) + \".png\")\n",
    "#     plt.show()\n",
    "#     test = datasets[0].loc[datasets[0]['Grid Size'] == 2 ** (11)]\n",
    "#     plt.plot(test[\"Num Workers\"], test[\"Time\"], label=str(2 ** (10 + i)) + \" - No barrier\")\n",
    "#     plt.show()\n",
    "test = pd.DataFrame(datasets[0].loc[datasets[0]['Grid Size'] == 2 ** (11)])\n",
    "# plt.plot(test[\"Num Workers\"], test[\"Time\"])\n",
    "# test[\"Time\"]\n",
    "# test.plot().scatter(x=\"Num Workers\", y=\"Time\", c=\"Workload\", alpha=.15)\n",
    "# plt.show()\n",
    "# fig, ax = plt.subplots()\n",
    "\n",
    "# ax.scatter(x=\"Num Workers\", y=\"Time\", data=test, alpha=.15);\n",
    "# plt.show()\n",
    "\n",
    "sns.factorplot(x='param_max_depth', y='mean_test_score',\n",
    "               col='param_min_samples_split',\n",
    "               hue='param_min_samples_leaf',\n",
    "               data=scores);"
   ]
  },
  {
   "cell_type": "code",
   "execution_count": null,
   "metadata": {},
   "outputs": [],
   "source": []
  }
 ],
 "metadata": {
  "anaconda-cloud": {},
  "kernelspec": {
   "display_name": "Python 2",
   "language": "python",
   "name": "python2"
  },
  "language_info": {
   "codemirror_mode": {
    "name": "ipython",
    "version": 2
   },
   "file_extension": ".py",
   "mimetype": "text/x-python",
   "name": "python",
   "nbconvert_exporter": "python",
   "pygments_lexer": "ipython2",
   "version": "2.7.12"
  }
 },
 "nbformat": 4,
 "nbformat_minor": 1
}
