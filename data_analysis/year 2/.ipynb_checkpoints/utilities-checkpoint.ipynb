{
 "cells": [
  {
   "cell_type": "code",
   "execution_count": 1,
   "metadata": {},
   "outputs": [],
   "source": [
    "def fetch_data(path, file_names, files, column_names):\n",
    "    for test in file_names:\n",
    "        data_path = os.path.join(os.getcwd(), path, test)\n",
    "            \n",
    "        files.append(pd.read_csv(data_path, names = column_names, sep=',|\\t|\\n', engine='python'))\n",
    "\n",
    "def generate_data(data, column_names):\n",
    "    for i in range(len(data)):\n",
    "        data[i].columns = column_names[i]\n",
    "        \n",
    "    return pd.concat(data, axis=1)\n",
    "\n",
    "def generate_data2(array_sizes, plasticity, data):\n",
    "    output = []\n",
    "    \n",
    "    array_size = 0\n",
    "    position = 0\n",
    "    num_repeats = len(data[0])\n",
    "    \n",
    "    for experiment in data:\n",
    "        for repeat in experiment:\n",
    "            \n",
    "            if position >= num_repeats:\n",
    "                array_size = (array_size + 1) % len(array_sizes)\n",
    "                position = 0\n",
    "                \n",
    "            output.append((array_sizes[array_size], plasticity, repeat))\n",
    "            position = position + 1\n",
    "            \n",
    "    return output"
   ]
  },
  {
   "cell_type": "code",
   "execution_count": null,
   "metadata": {},
   "outputs": [],
   "source": [
    "def round_to(n, precision):\n",
    "    correction = 0.5 if n >= 0 else -0.5\n",
    "    return int(n / precision + correction ) * precision"
   ]
  },
  {
   "cell_type": "code",
   "execution_count": null,
   "metadata": {
    "collapsed": true
   },
   "outputs": [],
   "source": [
    "def autolabel(bars):\n",
    "    peakval = [str(x) for x in bars]\n",
    "    \n",
    "    for ii, bar in enumerate(bars):\n",
    "        height = bars[ii]\n",
    "        plt.text(ind[ii], height-5, '%s'% (peakval[ii]), ha='center', va='bottom')"
   ]
  }
 ],
 "metadata": {
  "anaconda-cloud": {},
  "kernelspec": {
   "display_name": "Python 2",
   "language": "python",
   "name": "python2"
  },
  "language_info": {
   "codemirror_mode": {
    "name": "ipython",
    "version": 2
   },
   "file_extension": ".py",
   "mimetype": "text/x-python",
   "name": "python",
   "nbconvert_exporter": "python",
   "pygments_lexer": "ipython2",
   "version": "2.7.12"
  }
 },
 "nbformat": 4,
 "nbformat_minor": 2
}
